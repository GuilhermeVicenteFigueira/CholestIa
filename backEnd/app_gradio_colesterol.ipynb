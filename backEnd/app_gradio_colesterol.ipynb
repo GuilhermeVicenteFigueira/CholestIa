{
 "cells": [
  {
   "cell_type": "code",
   "execution_count": 1,
   "id": "86aa39e3",
   "metadata": {},
   "outputs": [
    {
     "name": "stderr",
     "output_type": "stream",
     "text": [
      "/home/prever03/trilha_de_ia/CholestAI/venv/lib/python3.8/site-packages/tqdm/auto.py:21: TqdmWarning: IProgress not found. Please update jupyter and ipywidgets. See https://ipywidgets.readthedocs.io/en/stable/user_install.html\n",
      "  from .autonotebook import tqdm as notebook_tqdm\n"
     ]
    }
   ],
   "source": [
    "import gradio as gr\n",
    "import joblib\n",
    "import pandas as pd"
   ]
  },
  {
   "cell_type": "code",
   "execution_count": 4,
   "id": "3902df03",
   "metadata": {},
   "outputs": [],
   "source": [
    "modelo = joblib.load('../Ia/cholestIa.pkl')"
   ]
  },
  {
   "cell_type": "code",
   "execution_count": 19,
   "id": "44f75125",
   "metadata": {},
   "outputs": [],
   "source": [
    "def predict(grupo_sanguineo, fumante, nivel_atividade_fisica, idade, peso, altura):\n",
    "    predicao_individual = {\n",
    "        'grupo_sanguineo': [grupo_sanguineo],\n",
    "        'fumante': [fumante],\n",
    "        'nivel_atividade_fisica': [nivel_atividade_fisica],\n",
    "        'idade': [idade],\n",
    "        'peso': [peso],\n",
    "        'altura': [altura]\n",
    "    }\n",
    "\n",
    "    sample_df = pd.DataFrame(predicao_individual)\n",
    "    colesterol = modelo.predict(sample_df)\n",
    "\n",
    "    return float(colesterol[0])\n"
   ]
  },
  {
   "cell_type": "code",
   "execution_count": 21,
   "id": "3f382781",
   "metadata": {},
   "outputs": [],
   "source": [
    "demo = gr.Interface(\n",
    "    fn=predict,\n",
    "    inputs= [\n",
    "        gr.Radio(['O', 'A', 'B', 'AB']),\n",
    "        'checkbox',\n",
    "        gr.Radio(['Baixo', 'Moderado', 'Alto']),\n",
    "        gr.Slider(20, 80, step=1),\n",
    "        gr.Slider(46, 160, step=0.1),\n",
    "        gr.Slider(150, 200, step=1)],\n",
    "    outputs=['number']  \n",
    ") \n"
   ]
  },
  {
   "cell_type": "code",
   "execution_count": 22,
   "id": "aa39f441",
   "metadata": {},
   "outputs": [
    {
     "name": "stdout",
     "output_type": "stream",
     "text": [
      "Running on local URL:  http://127.0.0.1:7864\n",
      "\n",
      "To create a public link, set `share=True` in `launch()`.\n"
     ]
    },
    {
     "data": {
      "text/html": [
       "<div><iframe src=\"http://127.0.0.1:7864/\" width=\"100%\" height=\"500\" allow=\"autoplay; camera; microphone; clipboard-read; clipboard-write;\" frameborder=\"0\" allowfullscreen></iframe></div>"
      ],
      "text/plain": [
       "<IPython.core.display.HTML object>"
      ]
     },
     "metadata": {},
     "output_type": "display_data"
    },
    {
     "data": {
      "text/plain": []
     },
     "execution_count": 22,
     "metadata": {},
     "output_type": "execute_result"
    }
   ],
   "source": [
    "demo.launch()"
   ]
  }
 ],
 "metadata": {
  "kernelspec": {
   "display_name": "cholestIA",
   "language": "python",
   "name": "venv"
  },
  "language_info": {
   "codemirror_mode": {
    "name": "ipython",
    "version": 3
   },
   "file_extension": ".py",
   "mimetype": "text/x-python",
   "name": "python",
   "nbconvert_exporter": "python",
   "pygments_lexer": "ipython3",
   "version": "3.8.7"
  }
 },
 "nbformat": 4,
 "nbformat_minor": 5
}
